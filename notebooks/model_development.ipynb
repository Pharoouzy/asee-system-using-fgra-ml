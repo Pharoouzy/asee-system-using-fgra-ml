{
 "cells": [
  {
   "cell_type": "markdown",
   "source": [
    "# Model Development"
   ],
   "metadata": {
    "collapsed": false
   },
   "id": "c54ee505b2fdc5b1"
  },
  {
   "cell_type": "markdown",
   "source": [
    "## Import necessary libraries"
   ],
   "metadata": {
    "collapsed": false
   },
   "id": "d5bd646c5e83130c"
  },
  {
   "cell_type": "code",
   "execution_count": null,
   "outputs": [],
   "source": [
    "%load_ext autoreload\n",
    "%autoreload 2\n",
    "\n",
    "import sys\n",
    "sys.path.append(\"../\") "
   ],
   "metadata": {
    "collapsed": false
   },
   "id": "db9fa77cc6a96f1"
  }
 ],
 "metadata": {
  "kernelspec": {
   "display_name": "Python 3",
   "language": "python",
   "name": "python3"
  },
  "language_info": {
   "codemirror_mode": {
    "name": "ipython",
    "version": 2
   },
   "file_extension": ".py",
   "mimetype": "text/x-python",
   "name": "python",
   "nbconvert_exporter": "python",
   "pygments_lexer": "ipython2",
   "version": "2.7.6"
  }
 },
 "nbformat": 4,
 "nbformat_minor": 5
}
