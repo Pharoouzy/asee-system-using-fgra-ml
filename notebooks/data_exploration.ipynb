{
 "cells": [
  {
   "cell_type": "markdown",
   "id": "e56556633b012282",
   "metadata": {
    "collapsed": false
   },
   "source": [
    "# Exploratory Data Analysis\n"
   ]
  },
  {
   "cell_type": "markdown",
   "id": "662a722194e447c",
   "metadata": {
    "collapsed": false
   },
   "source": [
    "## Import necessary packages\n"
   ]
  },
  {
   "cell_type": "code",
   "execution_count": 16,
   "id": "5ad4e84a5b6b41d0",
   "metadata": {
    "collapsed": false,
    "ExecuteTime": {
     "end_time": "2023-08-14T19:18:00.568191900Z",
     "start_time": "2023-08-14T19:18:00.493645Z"
    }
   },
   "outputs": [
    {
     "name": "stdout",
     "output_type": "stream",
     "text": [
      "The autoreload extension is already loaded. To reload it, use:\n",
      "  %reload_ext autoreload\n"
     ]
    }
   ],
   "source": [
    "%load_ext autoreload\n",
    "%autoreload 2\n",
    "\n",
    "import sys\n",
    "sys.path.append(\"../\") \n",
    "import pandas as pd\n",
    "from src.data.data_ingestion import DataIngestion\n",
    "from src.data.data_cleaning import DataCleaning"
   ]
  },
  {
   "cell_type": "markdown",
   "source": [
    "## Ingest raw data"
   ],
   "metadata": {
    "collapsed": false
   },
   "id": "709c1c1e6a3c8ec0"
  },
  {
   "cell_type": "code",
   "execution_count": 24,
   "id": "5a1abb2f6212fc64",
   "metadata": {
    "collapsed": false,
    "ExecuteTime": {
     "end_time": "2023-08-14T19:27:58.245741100Z",
     "start_time": "2023-08-14T19:27:58.184587800Z"
    }
   },
   "outputs": [
    {
     "name": "stderr",
     "output_type": "stream",
     "text": [
      "[2023-08-14 20:19:36,692] 37 src.utils.logger - INFO - Started data ingestion process...\n",
      "[2023-08-14 20:19:36,694] 40 src.utils.logger - INFO - Data already ingested to CSV: /home/umar/Workspace/personal/msc-dissertation/src/data/../../data/raw/raw.csv\n"
     ]
    }
   ],
   "source": [
    "raw_data = DataIngestion().ingest()"
   ]
  },
  {
   "cell_type": "markdown",
   "source": [
    "## Read raw data into a data frame"
   ],
   "metadata": {
    "collapsed": false
   },
   "id": "8bf7fb6248bc6c60"
  },
  {
   "cell_type": "code",
   "execution_count": 25,
   "id": "193511a666225cc5",
   "metadata": {
    "collapsed": false,
    "ExecuteTime": {
     "end_time": "2023-08-14T19:28:12.264651200Z",
     "start_time": "2023-08-14T19:28:01.642302700Z"
    }
   },
   "outputs": [
    {
     "name": "stderr",
     "output_type": "stream",
     "text": [
      "/tmp/ipykernel_2390/2507576894.py:1: DtypeWarning: Columns (9,24) have mixed types. Specify dtype option on import or set low_memory=False.\n",
      "  df = pd.read_csv(raw_data)\n"
     ]
    },
    {
     "data": {
      "text/plain": "   ID  Jira_ID Issue_Key                                            URL  \\\n0  65    77638   XD-3768  https://jira.spring.io/rest/api/2/issue/77638   \n1  66    77511   XD-3767  https://jira.spring.io/rest/api/2/issue/77511   \n2  67    77130   XD-3766  https://jira.spring.io/rest/api/2/issue/77130   \n3  68    71950   XD-3765  https://jira.spring.io/rest/api/2/issue/71950   \n4  69    71805   XD-3764  https://jira.spring.io/rest/api/2/issue/71805   \n\n                                               Title  \\\n0     \"How do I make a job restartable in spring xd\"   \n1      \"admin config timezone command does not work\"   \n2  \"Module Upload command not pushing jar to all ...   \n3                             \"Fix stream failover \"   \n4  \"SpringXD Job is still executing even after fo...   \n\n                                         Description  \\\n0  \"The jobs that appear under Executions section...   \n1  \"Working with Spring-XD version 1.3.2.RELEASE ...   \n2  \"My project 7 node cluster and in that 2 node ...   \n3  \"See https://github.com/spring-projects/spring...   \n4  \"I'm trying to run a Job on SpringXD and the j...   \n\n                                    Description_Text  \\\n0  \"\"\"The jobs that appear under Executions secti...   \n1  \"\"\"Working with Spring-XD version 1.3.2.RELEAS...   \n2  \"\"\"My project 7 node cluster and in that 2 nod...   \n3  \"\"\"See https://github.com/spring-projects/spri...   \n4  \"\"\"I'm trying to run a Job on SpringXD and the...   \n\n                                    Description_Code   Type Priority  ...  \\\n0                                                NaN    Bug    Major  ...   \n1  \" xd:>admin config admin config info        ad...    Bug  Trivial  ...   \n2                                                NaN    Bug    Major  ...   \n3                                                NaN  Story    Minor  ...   \n4                                                NaN    Bug    Major  ...   \n\n  Description_Changed_After_Estimation Story_Point_Changed_After_Estimation  \\\n0                                    0                                    0   \n1                                    0                                    0   \n2                                    0                                    0   \n3                                    0                                    0   \n4                                    0                                    0   \n\n  Pull_Request_URL Creator_ID Reporter_ID Assignee_ID  Project_ID  Sprint_ID  \\\n0              NaN       68.0        68.0         NaN           1        NaN   \n1              NaN       69.0        69.0         NaN           1        NaN   \n2              NaN       70.0        70.0         NaN           1        NaN   \n3              NaN       72.0        72.0        71.0           1        NaN   \n4              NaN       73.0        73.0         NaN           1        NaN   \n\n   Repository_Name  Poject_Name  \n0           Spring    Spring XD  \n1           Spring    Spring XD  \n2           Spring    Spring XD  \n3           Spring    Spring XD  \n4           Spring    Spring XD  \n\n[5 rows x 32 columns]",
      "text/html": "<div>\n<style scoped>\n    .dataframe tbody tr th:only-of-type {\n        vertical-align: middle;\n    }\n\n    .dataframe tbody tr th {\n        vertical-align: top;\n    }\n\n    .dataframe thead th {\n        text-align: right;\n    }\n</style>\n<table border=\"1\" class=\"dataframe\">\n  <thead>\n    <tr style=\"text-align: right;\">\n      <th></th>\n      <th>ID</th>\n      <th>Jira_ID</th>\n      <th>Issue_Key</th>\n      <th>URL</th>\n      <th>Title</th>\n      <th>Description</th>\n      <th>Description_Text</th>\n      <th>Description_Code</th>\n      <th>Type</th>\n      <th>Priority</th>\n      <th>...</th>\n      <th>Description_Changed_After_Estimation</th>\n      <th>Story_Point_Changed_After_Estimation</th>\n      <th>Pull_Request_URL</th>\n      <th>Creator_ID</th>\n      <th>Reporter_ID</th>\n      <th>Assignee_ID</th>\n      <th>Project_ID</th>\n      <th>Sprint_ID</th>\n      <th>Repository_Name</th>\n      <th>Poject_Name</th>\n    </tr>\n  </thead>\n  <tbody>\n    <tr>\n      <th>0</th>\n      <td>65</td>\n      <td>77638</td>\n      <td>XD-3768</td>\n      <td>https://jira.spring.io/rest/api/2/issue/77638</td>\n      <td>\"How do I make a job restartable in spring xd\"</td>\n      <td>\"The jobs that appear under Executions section...</td>\n      <td>\"\"\"The jobs that appear under Executions secti...</td>\n      <td>NaN</td>\n      <td>Bug</td>\n      <td>Major</td>\n      <td>...</td>\n      <td>0</td>\n      <td>0</td>\n      <td>NaN</td>\n      <td>68.0</td>\n      <td>68.0</td>\n      <td>NaN</td>\n      <td>1</td>\n      <td>NaN</td>\n      <td>Spring</td>\n      <td>Spring XD</td>\n    </tr>\n    <tr>\n      <th>1</th>\n      <td>66</td>\n      <td>77511</td>\n      <td>XD-3767</td>\n      <td>https://jira.spring.io/rest/api/2/issue/77511</td>\n      <td>\"admin config timezone command does not work\"</td>\n      <td>\"Working with Spring-XD version 1.3.2.RELEASE ...</td>\n      <td>\"\"\"Working with Spring-XD version 1.3.2.RELEAS...</td>\n      <td>\" xd:&gt;admin config admin config info        ad...</td>\n      <td>Bug</td>\n      <td>Trivial</td>\n      <td>...</td>\n      <td>0</td>\n      <td>0</td>\n      <td>NaN</td>\n      <td>69.0</td>\n      <td>69.0</td>\n      <td>NaN</td>\n      <td>1</td>\n      <td>NaN</td>\n      <td>Spring</td>\n      <td>Spring XD</td>\n    </tr>\n    <tr>\n      <th>2</th>\n      <td>67</td>\n      <td>77130</td>\n      <td>XD-3766</td>\n      <td>https://jira.spring.io/rest/api/2/issue/77130</td>\n      <td>\"Module Upload command not pushing jar to all ...</td>\n      <td>\"My project 7 node cluster and in that 2 node ...</td>\n      <td>\"\"\"My project 7 node cluster and in that 2 nod...</td>\n      <td>NaN</td>\n      <td>Bug</td>\n      <td>Major</td>\n      <td>...</td>\n      <td>0</td>\n      <td>0</td>\n      <td>NaN</td>\n      <td>70.0</td>\n      <td>70.0</td>\n      <td>NaN</td>\n      <td>1</td>\n      <td>NaN</td>\n      <td>Spring</td>\n      <td>Spring XD</td>\n    </tr>\n    <tr>\n      <th>3</th>\n      <td>68</td>\n      <td>71950</td>\n      <td>XD-3765</td>\n      <td>https://jira.spring.io/rest/api/2/issue/71950</td>\n      <td>\"Fix stream failover \"</td>\n      <td>\"See https://github.com/spring-projects/spring...</td>\n      <td>\"\"\"See https://github.com/spring-projects/spri...</td>\n      <td>NaN</td>\n      <td>Story</td>\n      <td>Minor</td>\n      <td>...</td>\n      <td>0</td>\n      <td>0</td>\n      <td>NaN</td>\n      <td>72.0</td>\n      <td>72.0</td>\n      <td>71.0</td>\n      <td>1</td>\n      <td>NaN</td>\n      <td>Spring</td>\n      <td>Spring XD</td>\n    </tr>\n    <tr>\n      <th>4</th>\n      <td>69</td>\n      <td>71805</td>\n      <td>XD-3764</td>\n      <td>https://jira.spring.io/rest/api/2/issue/71805</td>\n      <td>\"SpringXD Job is still executing even after fo...</td>\n      <td>\"I'm trying to run a Job on SpringXD and the j...</td>\n      <td>\"\"\"I'm trying to run a Job on SpringXD and the...</td>\n      <td>NaN</td>\n      <td>Bug</td>\n      <td>Major</td>\n      <td>...</td>\n      <td>0</td>\n      <td>0</td>\n      <td>NaN</td>\n      <td>73.0</td>\n      <td>73.0</td>\n      <td>NaN</td>\n      <td>1</td>\n      <td>NaN</td>\n      <td>Spring</td>\n      <td>Spring XD</td>\n    </tr>\n  </tbody>\n</table>\n<p>5 rows × 32 columns</p>\n</div>"
     },
     "execution_count": 25,
     "metadata": {},
     "output_type": "execute_result"
    }
   ],
   "source": [
    "df = pd.read_csv(raw_data)\n",
    "df.head()"
   ]
  },
  {
   "cell_type": "code",
   "execution_count": 26,
   "outputs": [
    {
     "data": {
      "text/plain": "                  ID       Jira_ID   Story_Point     Timespent  \\\ncount  458232.000000  4.582320e+05  6.542700e+04  10243.000000   \nmean   250427.756628  6.842263e+05  4.135718e+02    323.090501   \nstd    154217.334318  2.121512e+06  1.044232e+05    761.792096   \nmin        65.000000  1.000000e+04  0.000000e+00      0.000000   \n25%    114626.750000  5.834075e+04  1.000000e+00     46.000000   \n50%    229184.500000  1.471675e+05  3.000000e+00    120.000000   \n75%    394473.250000  6.167282e+05  5.000000e+00    300.000000   \nmax    509035.000000  1.333610e+07  2.671011e+07  24622.000000   \n\n       In_Progress_Minutes  Total_Effort_Minutes  Resolution_Time_Minutes  \\\ncount         4.582320e+05          4.582320e+05             4.582320e+05   \nmean          5.238023e+03          2.343935e+04             4.084872e+05   \nstd           5.792574e+04          1.286546e+05             8.887023e+05   \nmin           0.000000e+00          0.000000e+00             0.000000e+00   \n25%           0.000000e+00          0.000000e+00             4.000000e+00   \n50%           0.000000e+00          0.000000e+00             1.535700e+04   \n75%           0.000000e+00          1.458000e+03             2.634485e+05   \nmax           4.771423e+06          4.806555e+06             9.156071e+06   \n\n       Title_Changed_After_Estimation  Description_Changed_After_Estimation  \\\ncount                   458232.000000                              458232.0   \nmean                         0.141330                                   0.0   \nstd                          0.348362                                   0.0   \nmin                          0.000000                                   0.0   \n25%                          0.000000                                   0.0   \n50%                          0.000000                                   0.0   \n75%                          0.000000                                   0.0   \nmax                          1.000000                                   0.0   \n\n       Story_Point_Changed_After_Estimation     Creator_ID    Reporter_ID  \\\ncount                         458232.000000  456641.000000  455736.000000   \nmean                               0.020068  120547.190712  120825.496105   \nstd                                0.140235   62373.774892   62234.714879   \nmin                                0.000000      68.000000      68.000000   \n25%                                0.000000   73529.000000   74305.000000   \n50%                                0.000000  145748.000000  145748.000000   \n75%                                0.000000  164408.000000  164408.000000   \nmax                                1.000000  209125.000000  209125.000000   \n\n         Assignee_ID     Project_ID     Sprint_ID  \ncount  261831.000000  458232.000000  43475.000000  \nmean   133827.102066      24.998507   2711.075791  \nstd     60001.012434      10.805999   1512.380726  \nmin        71.000000       1.000000      1.000000  \n25%    116063.000000      18.000000   1395.500000  \n50%    151325.000000      23.000000   2941.000000  \n75%    166050.000000      34.000000   4053.000000  \nmax    208978.000000      44.000000   5027.000000  ",
      "text/html": "<div>\n<style scoped>\n    .dataframe tbody tr th:only-of-type {\n        vertical-align: middle;\n    }\n\n    .dataframe tbody tr th {\n        vertical-align: top;\n    }\n\n    .dataframe thead th {\n        text-align: right;\n    }\n</style>\n<table border=\"1\" class=\"dataframe\">\n  <thead>\n    <tr style=\"text-align: right;\">\n      <th></th>\n      <th>ID</th>\n      <th>Jira_ID</th>\n      <th>Story_Point</th>\n      <th>Timespent</th>\n      <th>In_Progress_Minutes</th>\n      <th>Total_Effort_Minutes</th>\n      <th>Resolution_Time_Minutes</th>\n      <th>Title_Changed_After_Estimation</th>\n      <th>Description_Changed_After_Estimation</th>\n      <th>Story_Point_Changed_After_Estimation</th>\n      <th>Creator_ID</th>\n      <th>Reporter_ID</th>\n      <th>Assignee_ID</th>\n      <th>Project_ID</th>\n      <th>Sprint_ID</th>\n    </tr>\n  </thead>\n  <tbody>\n    <tr>\n      <th>count</th>\n      <td>458232.000000</td>\n      <td>4.582320e+05</td>\n      <td>6.542700e+04</td>\n      <td>10243.000000</td>\n      <td>4.582320e+05</td>\n      <td>4.582320e+05</td>\n      <td>4.582320e+05</td>\n      <td>458232.000000</td>\n      <td>458232.0</td>\n      <td>458232.000000</td>\n      <td>456641.000000</td>\n      <td>455736.000000</td>\n      <td>261831.000000</td>\n      <td>458232.000000</td>\n      <td>43475.000000</td>\n    </tr>\n    <tr>\n      <th>mean</th>\n      <td>250427.756628</td>\n      <td>6.842263e+05</td>\n      <td>4.135718e+02</td>\n      <td>323.090501</td>\n      <td>5.238023e+03</td>\n      <td>2.343935e+04</td>\n      <td>4.084872e+05</td>\n      <td>0.141330</td>\n      <td>0.0</td>\n      <td>0.020068</td>\n      <td>120547.190712</td>\n      <td>120825.496105</td>\n      <td>133827.102066</td>\n      <td>24.998507</td>\n      <td>2711.075791</td>\n    </tr>\n    <tr>\n      <th>std</th>\n      <td>154217.334318</td>\n      <td>2.121512e+06</td>\n      <td>1.044232e+05</td>\n      <td>761.792096</td>\n      <td>5.792574e+04</td>\n      <td>1.286546e+05</td>\n      <td>8.887023e+05</td>\n      <td>0.348362</td>\n      <td>0.0</td>\n      <td>0.140235</td>\n      <td>62373.774892</td>\n      <td>62234.714879</td>\n      <td>60001.012434</td>\n      <td>10.805999</td>\n      <td>1512.380726</td>\n    </tr>\n    <tr>\n      <th>min</th>\n      <td>65.000000</td>\n      <td>1.000000e+04</td>\n      <td>0.000000e+00</td>\n      <td>0.000000</td>\n      <td>0.000000e+00</td>\n      <td>0.000000e+00</td>\n      <td>0.000000e+00</td>\n      <td>0.000000</td>\n      <td>0.0</td>\n      <td>0.000000</td>\n      <td>68.000000</td>\n      <td>68.000000</td>\n      <td>71.000000</td>\n      <td>1.000000</td>\n      <td>1.000000</td>\n    </tr>\n    <tr>\n      <th>25%</th>\n      <td>114626.750000</td>\n      <td>5.834075e+04</td>\n      <td>1.000000e+00</td>\n      <td>46.000000</td>\n      <td>0.000000e+00</td>\n      <td>0.000000e+00</td>\n      <td>4.000000e+00</td>\n      <td>0.000000</td>\n      <td>0.0</td>\n      <td>0.000000</td>\n      <td>73529.000000</td>\n      <td>74305.000000</td>\n      <td>116063.000000</td>\n      <td>18.000000</td>\n      <td>1395.500000</td>\n    </tr>\n    <tr>\n      <th>50%</th>\n      <td>229184.500000</td>\n      <td>1.471675e+05</td>\n      <td>3.000000e+00</td>\n      <td>120.000000</td>\n      <td>0.000000e+00</td>\n      <td>0.000000e+00</td>\n      <td>1.535700e+04</td>\n      <td>0.000000</td>\n      <td>0.0</td>\n      <td>0.000000</td>\n      <td>145748.000000</td>\n      <td>145748.000000</td>\n      <td>151325.000000</td>\n      <td>23.000000</td>\n      <td>2941.000000</td>\n    </tr>\n    <tr>\n      <th>75%</th>\n      <td>394473.250000</td>\n      <td>6.167282e+05</td>\n      <td>5.000000e+00</td>\n      <td>300.000000</td>\n      <td>0.000000e+00</td>\n      <td>1.458000e+03</td>\n      <td>2.634485e+05</td>\n      <td>0.000000</td>\n      <td>0.0</td>\n      <td>0.000000</td>\n      <td>164408.000000</td>\n      <td>164408.000000</td>\n      <td>166050.000000</td>\n      <td>34.000000</td>\n      <td>4053.000000</td>\n    </tr>\n    <tr>\n      <th>max</th>\n      <td>509035.000000</td>\n      <td>1.333610e+07</td>\n      <td>2.671011e+07</td>\n      <td>24622.000000</td>\n      <td>4.771423e+06</td>\n      <td>4.806555e+06</td>\n      <td>9.156071e+06</td>\n      <td>1.000000</td>\n      <td>0.0</td>\n      <td>1.000000</td>\n      <td>209125.000000</td>\n      <td>209125.000000</td>\n      <td>208978.000000</td>\n      <td>44.000000</td>\n      <td>5027.000000</td>\n    </tr>\n  </tbody>\n</table>\n</div>"
     },
     "execution_count": 26,
     "metadata": {},
     "output_type": "execute_result"
    }
   ],
   "source": [
    "df.describe()"
   ],
   "metadata": {
    "collapsed": false,
    "ExecuteTime": {
     "end_time": "2023-08-14T19:28:41.619547300Z",
     "start_time": "2023-08-14T19:28:41.354446500Z"
    }
   },
   "id": "c6bacd72ec6a78b"
  },
  {
   "cell_type": "code",
   "execution_count": 27,
   "outputs": [
    {
     "name": "stdout",
     "output_type": "stream",
     "text": [
      "<class 'pandas.core.frame.DataFrame'>\n",
      "RangeIndex: 458232 entries, 0 to 458231\n",
      "Data columns (total 32 columns):\n",
      " #   Column                                Non-Null Count   Dtype  \n",
      "---  ------                                --------------   -----  \n",
      " 0   ID                                    458232 non-null  int64  \n",
      " 1   Jira_ID                               458232 non-null  int64  \n",
      " 2   Issue_Key                             458232 non-null  object \n",
      " 3   URL                                   458232 non-null  object \n",
      " 4   Title                                 458232 non-null  object \n",
      " 5   Description                           429104 non-null  object \n",
      " 6   Description_Text                      429104 non-null  object \n",
      " 7   Description_Code                      59005 non-null   object \n",
      " 8   Type                                  458232 non-null  object \n",
      " 9   Priority                              331573 non-null  object \n",
      " 10  Status                                458232 non-null  object \n",
      " 11  Resolution                            380734 non-null  object \n",
      " 12  Creation_Date                         458232 non-null  object \n",
      " 13  Estimation_Date                       65427 non-null   object \n",
      " 14  Resolution_Date                       352632 non-null  object \n",
      " 15  Last_Updated                          458232 non-null  object \n",
      " 16  Story_Point                           65427 non-null   float64\n",
      " 17  Timespent                             10243 non-null   float64\n",
      " 18  In_Progress_Minutes                   458232 non-null  float64\n",
      " 19  Total_Effort_Minutes                  458232 non-null  float64\n",
      " 20  Resolution_Time_Minutes               458232 non-null  float64\n",
      " 21  Title_Changed_After_Estimation        458232 non-null  int64  \n",
      " 22  Description_Changed_After_Estimation  458232 non-null  int64  \n",
      " 23  Story_Point_Changed_After_Estimation  458232 non-null  int64  \n",
      " 24  Pull_Request_URL                      646 non-null     object \n",
      " 25  Creator_ID                            456641 non-null  float64\n",
      " 26  Reporter_ID                           455736 non-null  float64\n",
      " 27  Assignee_ID                           261831 non-null  float64\n",
      " 28  Project_ID                            458232 non-null  int64  \n",
      " 29  Sprint_ID                             43475 non-null   float64\n",
      " 30  Repository_Name                       458232 non-null  object \n",
      " 31  Poject_Name                           458232 non-null  object \n",
      "dtypes: float64(9), int64(6), object(17)\n",
      "memory usage: 111.9+ MB\n"
     ]
    }
   ],
   "source": [
    "df.info()"
   ],
   "metadata": {
    "collapsed": false,
    "ExecuteTime": {
     "end_time": "2023-08-14T19:29:18.693885800Z",
     "start_time": "2023-08-14T19:29:18.407995Z"
    }
   },
   "id": "6c4e44e05605d73d"
  },
  {
   "cell_type": "code",
   "execution_count": 28,
   "outputs": [
    {
     "name": "stdout",
     "output_type": "stream",
     "text": [
      "                  Total Missing  Percent Missing (%)\n",
      "Pull_Request_URL         457586            99.859023\n",
      "Timespent                447989            97.764669\n",
      "Sprint_ID                414757            90.512448\n",
      "Description_Code         399227            87.123335\n",
      "Estimation_Date          392805            85.721861\n",
      "Story_Point              392805            85.721861\n",
      "Assignee_ID              196401            42.860603\n",
      "Priority                 126659            27.640802\n",
      "Resolution_Date          105600            23.045095\n",
      "Resolution                77498            16.912394\n",
      "Description               29128             6.356605\n",
      "Description_Text          29128             6.356605\n",
      "Reporter_ID                2496             0.544702\n",
      "Creator_ID                 1591             0.347204\n"
     ]
    }
   ],
   "source": [
    "DataCleaning.assess_missing_datax(df)"
   ],
   "metadata": {
    "collapsed": false,
    "ExecuteTime": {
     "end_time": "2023-08-14T19:31:26.490143700Z",
     "start_time": "2023-08-14T19:31:25.409166200Z"
    }
   },
   "id": "fb835ef44b5de880"
  },
  {
   "cell_type": "code",
   "execution_count": 21,
   "outputs": [
    {
     "ename": "KeyError",
     "evalue": "'In_Progress_Minutes'",
     "output_type": "error",
     "traceback": [
      "\u001B[0;31m---------------------------------------------------------------------------\u001B[0m",
      "\u001B[0;31mKeyError\u001B[0m                                  Traceback (most recent call last)",
      "File \u001B[0;32m~/.local/lib/python3.10/site-packages/pandas/core/indexes/base.py:3653\u001B[0m, in \u001B[0;36mIndex.get_loc\u001B[0;34m(self, key)\u001B[0m\n\u001B[1;32m   3652\u001B[0m \u001B[38;5;28;01mtry\u001B[39;00m:\n\u001B[0;32m-> 3653\u001B[0m     \u001B[38;5;28;01mreturn\u001B[39;00m \u001B[38;5;28;43mself\u001B[39;49m\u001B[38;5;241;43m.\u001B[39;49m\u001B[43m_engine\u001B[49m\u001B[38;5;241;43m.\u001B[39;49m\u001B[43mget_loc\u001B[49m\u001B[43m(\u001B[49m\u001B[43mcasted_key\u001B[49m\u001B[43m)\u001B[49m\n\u001B[1;32m   3654\u001B[0m \u001B[38;5;28;01mexcept\u001B[39;00m \u001B[38;5;167;01mKeyError\u001B[39;00m \u001B[38;5;28;01mas\u001B[39;00m err:\n",
      "File \u001B[0;32m~/.local/lib/python3.10/site-packages/pandas/_libs/index.pyx:147\u001B[0m, in \u001B[0;36mpandas._libs.index.IndexEngine.get_loc\u001B[0;34m()\u001B[0m\n",
      "File \u001B[0;32m~/.local/lib/python3.10/site-packages/pandas/_libs/index.pyx:176\u001B[0m, in \u001B[0;36mpandas._libs.index.IndexEngine.get_loc\u001B[0;34m()\u001B[0m\n",
      "File \u001B[0;32mpandas/_libs/hashtable_class_helper.pxi:7080\u001B[0m, in \u001B[0;36mpandas._libs.hashtable.PyObjectHashTable.get_item\u001B[0;34m()\u001B[0m\n",
      "File \u001B[0;32mpandas/_libs/hashtable_class_helper.pxi:7088\u001B[0m, in \u001B[0;36mpandas._libs.hashtable.PyObjectHashTable.get_item\u001B[0;34m()\u001B[0m\n",
      "\u001B[0;31mKeyError\u001B[0m: 'In_Progress_Minutes'",
      "\nThe above exception was the direct cause of the following exception:\n",
      "\u001B[0;31mKeyError\u001B[0m                                  Traceback (most recent call last)",
      "Cell \u001B[0;32mIn[21], line 1\u001B[0m\n\u001B[0;32m----> 1\u001B[0m cleaned_df \u001B[38;5;241m=\u001B[39m \u001B[43mDataCleaning\u001B[49m\u001B[43m(\u001B[49m\u001B[43m)\u001B[49m\u001B[38;5;241;43m.\u001B[39;49m\u001B[43mclean_data\u001B[49m\u001B[43m(\u001B[49m\u001B[43mdf\u001B[49m\u001B[43m)\u001B[49m\n\u001B[1;32m      2\u001B[0m cleaned_df\u001B[38;5;241m.\u001B[39mhead()\n",
      "File \u001B[0;32m~/Workspace/personal/msc-dissertation/src/data/data_cleaning.py:19\u001B[0m, in \u001B[0;36mDataCleaning.clean_data\u001B[0;34m(self, df)\u001B[0m\n\u001B[1;32m     17\u001B[0m \u001B[38;5;66;03m# Handle outliers for specific columns\u001B[39;00m\n\u001B[1;32m     18\u001B[0m columns_with_outliers \u001B[38;5;241m=\u001B[39m [\u001B[38;5;124m'\u001B[39m\u001B[38;5;124mTimespent\u001B[39m\u001B[38;5;124m'\u001B[39m, \u001B[38;5;124m'\u001B[39m\u001B[38;5;124mIn_Progress_Minutes\u001B[39m\u001B[38;5;124m'\u001B[39m, \u001B[38;5;124m'\u001B[39m\u001B[38;5;124mTotal_Effort_Minutes\u001B[39m\u001B[38;5;124m'\u001B[39m]\n\u001B[0;32m---> 19\u001B[0m df \u001B[38;5;241m=\u001B[39m \u001B[38;5;28;43mself\u001B[39;49m\u001B[38;5;241;43m.\u001B[39;49m\u001B[43mremove_outliers\u001B[49m\u001B[43m(\u001B[49m\u001B[43mdf\u001B[49m\u001B[43m,\u001B[49m\u001B[43m \u001B[49m\u001B[43mcolumns_with_outliers\u001B[49m\u001B[43m)\u001B[49m\n\u001B[1;32m     21\u001B[0m \u001B[38;5;66;03m# Handle negative time durations\u001B[39;00m\n\u001B[1;32m     22\u001B[0m time_columns \u001B[38;5;241m=\u001B[39m [\u001B[38;5;124m'\u001B[39m\u001B[38;5;124mTimespent\u001B[39m\u001B[38;5;124m'\u001B[39m, \u001B[38;5;124m'\u001B[39m\u001B[38;5;124mIn_Progress_Minutes\u001B[39m\u001B[38;5;124m'\u001B[39m, \u001B[38;5;124m'\u001B[39m\u001B[38;5;124mTotal_Effort_Minutes\u001B[39m\u001B[38;5;124m'\u001B[39m, \u001B[38;5;124m'\u001B[39m\u001B[38;5;124mResolution_Time_Minutes\u001B[39m\u001B[38;5;124m'\u001B[39m]\n",
      "File \u001B[0;32m~/Workspace/personal/msc-dissertation/src/data/data_cleaning.py:50\u001B[0m, in \u001B[0;36mDataCleaning.remove_outliers\u001B[0;34m(df, columns_with_outliers)\u001B[0m\n\u001B[1;32m     48\u001B[0m \u001B[38;5;250m\u001B[39m\u001B[38;5;124;03m\"\"\"Remove outliers.\"\"\"\u001B[39;00m\n\u001B[1;32m     49\u001B[0m \u001B[38;5;28;01mfor\u001B[39;00m column \u001B[38;5;129;01min\u001B[39;00m columns_with_outliers:\n\u001B[0;32m---> 50\u001B[0m     df[column] \u001B[38;5;241m=\u001B[39m np\u001B[38;5;241m.\u001B[39mwhere(\u001B[43mdf\u001B[49m\u001B[43m[\u001B[49m\u001B[43mcolumn\u001B[49m\u001B[43m]\u001B[49m \u001B[38;5;241m<\u001B[39m \u001B[38;5;241m0\u001B[39m, \u001B[38;5;241m0\u001B[39m, df[column])\n\u001B[1;32m     51\u001B[0m \u001B[38;5;28;01mreturn\u001B[39;00m df\n",
      "File \u001B[0;32m~/.local/lib/python3.10/site-packages/pandas/core/frame.py:3761\u001B[0m, in \u001B[0;36mDataFrame.__getitem__\u001B[0;34m(self, key)\u001B[0m\n\u001B[1;32m   3759\u001B[0m \u001B[38;5;28;01mif\u001B[39;00m \u001B[38;5;28mself\u001B[39m\u001B[38;5;241m.\u001B[39mcolumns\u001B[38;5;241m.\u001B[39mnlevels \u001B[38;5;241m>\u001B[39m \u001B[38;5;241m1\u001B[39m:\n\u001B[1;32m   3760\u001B[0m     \u001B[38;5;28;01mreturn\u001B[39;00m \u001B[38;5;28mself\u001B[39m\u001B[38;5;241m.\u001B[39m_getitem_multilevel(key)\n\u001B[0;32m-> 3761\u001B[0m indexer \u001B[38;5;241m=\u001B[39m \u001B[38;5;28;43mself\u001B[39;49m\u001B[38;5;241;43m.\u001B[39;49m\u001B[43mcolumns\u001B[49m\u001B[38;5;241;43m.\u001B[39;49m\u001B[43mget_loc\u001B[49m\u001B[43m(\u001B[49m\u001B[43mkey\u001B[49m\u001B[43m)\u001B[49m\n\u001B[1;32m   3762\u001B[0m \u001B[38;5;28;01mif\u001B[39;00m is_integer(indexer):\n\u001B[1;32m   3763\u001B[0m     indexer \u001B[38;5;241m=\u001B[39m [indexer]\n",
      "File \u001B[0;32m~/.local/lib/python3.10/site-packages/pandas/core/indexes/base.py:3655\u001B[0m, in \u001B[0;36mIndex.get_loc\u001B[0;34m(self, key)\u001B[0m\n\u001B[1;32m   3653\u001B[0m     \u001B[38;5;28;01mreturn\u001B[39;00m \u001B[38;5;28mself\u001B[39m\u001B[38;5;241m.\u001B[39m_engine\u001B[38;5;241m.\u001B[39mget_loc(casted_key)\n\u001B[1;32m   3654\u001B[0m \u001B[38;5;28;01mexcept\u001B[39;00m \u001B[38;5;167;01mKeyError\u001B[39;00m \u001B[38;5;28;01mas\u001B[39;00m err:\n\u001B[0;32m-> 3655\u001B[0m     \u001B[38;5;28;01mraise\u001B[39;00m \u001B[38;5;167;01mKeyError\u001B[39;00m(key) \u001B[38;5;28;01mfrom\u001B[39;00m \u001B[38;5;21;01merr\u001B[39;00m\n\u001B[1;32m   3656\u001B[0m \u001B[38;5;28;01mexcept\u001B[39;00m \u001B[38;5;167;01mTypeError\u001B[39;00m:\n\u001B[1;32m   3657\u001B[0m     \u001B[38;5;66;03m# If we have a listlike key, _check_indexing_error will raise\u001B[39;00m\n\u001B[1;32m   3658\u001B[0m     \u001B[38;5;66;03m#  InvalidIndexError. Otherwise we fall through and re-raise\u001B[39;00m\n\u001B[1;32m   3659\u001B[0m     \u001B[38;5;66;03m#  the TypeError.\u001B[39;00m\n\u001B[1;32m   3660\u001B[0m     \u001B[38;5;28mself\u001B[39m\u001B[38;5;241m.\u001B[39m_check_indexing_error(key)\n",
      "\u001B[0;31mKeyError\u001B[0m: 'In_Progress_Minutes'"
     ]
    }
   ],
   "source": [
    "cleaned_df = DataCleaning().clean_data(df)\n",
    "cleaned_df.head()"
   ],
   "metadata": {
    "collapsed": false,
    "ExecuteTime": {
     "end_time": "2023-08-14T19:19:02.523986200Z",
     "start_time": "2023-08-14T19:19:00.715815300Z"
    }
   },
   "id": "abcf2b77a3109f83"
  },
  {
   "cell_type": "code",
   "execution_count": 13,
   "outputs": [
    {
     "name": "stdout",
     "output_type": "stream",
     "text": [
      "                 Total Missing  Percent Missing (%)\n",
      "Timespent               447989            97.764669\n",
      "Estimation_Date         392805            85.721861\n",
      "Assignee_ID             196401            42.860603\n",
      "Priority                126659            27.640802\n",
      "Resolution_Date         105600            23.045095\n",
      "Resolution               77498            16.912394\n",
      "Description              29128             6.356605\n",
      "Reporter_ID               2496             0.544702\n",
      "Creator_ID                1591             0.347204\n"
     ]
    },
    {
     "data": {
      "text/plain": "   ID  Jira_ID Issue_Key                                              Title  \\\n0  65    77638   XD-3768     \"How do I make a job restartable in spring xd\"   \n1  66    77511   XD-3767      \"admin config timezone command does not work\"   \n2  67    77130   XD-3766  \"Module Upload command not pushing jar to all ...   \n3  68    71950   XD-3765                             \"Fix stream failover \"   \n4  69    71805   XD-3764  \"SpringXD Job is still executing even after fo...   \n\n                                         Description   Type Priority Status  \\\n0  \"The jobs that appear under Executions section...    Bug    Major  To Do   \n1  \"Working with Spring-XD version 1.3.2.RELEASE ...    Bug  Trivial  To Do   \n2  \"My project 7 node cluster and in that 2 node ...    Bug    Major  To Do   \n3  \"See https://github.com/spring-projects/spring...  Story    Minor   Done   \n4  \"I'm trying to run a Job on SpringXD and the j...    Bug    Major  To Do   \n\n  Resolution        Creation_Date  ... Timespent Resolution_Time_Minutes  \\\n0        NaN  2017-07-10 13:41:25  ...       NaN                     0.0   \n1        NaN  2017-06-26 16:26:27  ...       NaN                     0.0   \n2        NaN  2017-05-19 22:28:43  ...       NaN                     0.0   \n3   Complete  2017-03-21 16:54:44  ...       NaN                     0.0   \n4        NaN  2017-03-06 20:01:41  ...       NaN                     0.0   \n\n  Total_Effort_Minutes  Title_Changed_After_Estimation  \\\n0                  0.0                               0   \n1                  0.0                               0   \n2                  0.0                               0   \n3                  0.0                               1   \n4                  0.0                               0   \n\n   Description_Changed_After_Estimation  Assignee_ID  Creator_ID  Reporter_ID  \\\n0                                     0          NaN        68.0         68.0   \n1                                     0          NaN        69.0         69.0   \n2                                     0          NaN        70.0         70.0   \n3                                     0         71.0        72.0         72.0   \n4                                     0          NaN        73.0         73.0   \n\n   Repository_Name  Poject_Name  \n0           Spring    Spring XD  \n1           Spring    Spring XD  \n2           Spring    Spring XD  \n3           Spring    Spring XD  \n4           Spring    Spring XD  \n\n[5 rows x 25 columns]",
      "text/html": "<div>\n<style scoped>\n    .dataframe tbody tr th:only-of-type {\n        vertical-align: middle;\n    }\n\n    .dataframe tbody tr th {\n        vertical-align: top;\n    }\n\n    .dataframe thead th {\n        text-align: right;\n    }\n</style>\n<table border=\"1\" class=\"dataframe\">\n  <thead>\n    <tr style=\"text-align: right;\">\n      <th></th>\n      <th>ID</th>\n      <th>Jira_ID</th>\n      <th>Issue_Key</th>\n      <th>Title</th>\n      <th>Description</th>\n      <th>Type</th>\n      <th>Priority</th>\n      <th>Status</th>\n      <th>Resolution</th>\n      <th>Creation_Date</th>\n      <th>...</th>\n      <th>Timespent</th>\n      <th>Resolution_Time_Minutes</th>\n      <th>Total_Effort_Minutes</th>\n      <th>Title_Changed_After_Estimation</th>\n      <th>Description_Changed_After_Estimation</th>\n      <th>Assignee_ID</th>\n      <th>Creator_ID</th>\n      <th>Reporter_ID</th>\n      <th>Repository_Name</th>\n      <th>Poject_Name</th>\n    </tr>\n  </thead>\n  <tbody>\n    <tr>\n      <th>0</th>\n      <td>65</td>\n      <td>77638</td>\n      <td>XD-3768</td>\n      <td>\"How do I make a job restartable in spring xd\"</td>\n      <td>\"The jobs that appear under Executions section...</td>\n      <td>Bug</td>\n      <td>Major</td>\n      <td>To Do</td>\n      <td>NaN</td>\n      <td>2017-07-10 13:41:25</td>\n      <td>...</td>\n      <td>NaN</td>\n      <td>0.0</td>\n      <td>0.0</td>\n      <td>0</td>\n      <td>0</td>\n      <td>NaN</td>\n      <td>68.0</td>\n      <td>68.0</td>\n      <td>Spring</td>\n      <td>Spring XD</td>\n    </tr>\n    <tr>\n      <th>1</th>\n      <td>66</td>\n      <td>77511</td>\n      <td>XD-3767</td>\n      <td>\"admin config timezone command does not work\"</td>\n      <td>\"Working with Spring-XD version 1.3.2.RELEASE ...</td>\n      <td>Bug</td>\n      <td>Trivial</td>\n      <td>To Do</td>\n      <td>NaN</td>\n      <td>2017-06-26 16:26:27</td>\n      <td>...</td>\n      <td>NaN</td>\n      <td>0.0</td>\n      <td>0.0</td>\n      <td>0</td>\n      <td>0</td>\n      <td>NaN</td>\n      <td>69.0</td>\n      <td>69.0</td>\n      <td>Spring</td>\n      <td>Spring XD</td>\n    </tr>\n    <tr>\n      <th>2</th>\n      <td>67</td>\n      <td>77130</td>\n      <td>XD-3766</td>\n      <td>\"Module Upload command not pushing jar to all ...</td>\n      <td>\"My project 7 node cluster and in that 2 node ...</td>\n      <td>Bug</td>\n      <td>Major</td>\n      <td>To Do</td>\n      <td>NaN</td>\n      <td>2017-05-19 22:28:43</td>\n      <td>...</td>\n      <td>NaN</td>\n      <td>0.0</td>\n      <td>0.0</td>\n      <td>0</td>\n      <td>0</td>\n      <td>NaN</td>\n      <td>70.0</td>\n      <td>70.0</td>\n      <td>Spring</td>\n      <td>Spring XD</td>\n    </tr>\n    <tr>\n      <th>3</th>\n      <td>68</td>\n      <td>71950</td>\n      <td>XD-3765</td>\n      <td>\"Fix stream failover \"</td>\n      <td>\"See https://github.com/spring-projects/spring...</td>\n      <td>Story</td>\n      <td>Minor</td>\n      <td>Done</td>\n      <td>Complete</td>\n      <td>2017-03-21 16:54:44</td>\n      <td>...</td>\n      <td>NaN</td>\n      <td>0.0</td>\n      <td>0.0</td>\n      <td>1</td>\n      <td>0</td>\n      <td>71.0</td>\n      <td>72.0</td>\n      <td>72.0</td>\n      <td>Spring</td>\n      <td>Spring XD</td>\n    </tr>\n    <tr>\n      <th>4</th>\n      <td>69</td>\n      <td>71805</td>\n      <td>XD-3764</td>\n      <td>\"SpringXD Job is still executing even after fo...</td>\n      <td>\"I'm trying to run a Job on SpringXD and the j...</td>\n      <td>Bug</td>\n      <td>Major</td>\n      <td>To Do</td>\n      <td>NaN</td>\n      <td>2017-03-06 20:01:41</td>\n      <td>...</td>\n      <td>NaN</td>\n      <td>0.0</td>\n      <td>0.0</td>\n      <td>0</td>\n      <td>0</td>\n      <td>NaN</td>\n      <td>73.0</td>\n      <td>73.0</td>\n      <td>Spring</td>\n      <td>Spring XD</td>\n    </tr>\n  </tbody>\n</table>\n<p>5 rows × 25 columns</p>\n</div>"
     },
     "execution_count": 13,
     "metadata": {},
     "output_type": "execute_result"
    }
   ],
   "source": [],
   "metadata": {
    "collapsed": false,
    "ExecuteTime": {
     "end_time": "2023-08-13T20:21:28.011137400Z",
     "start_time": "2023-08-13T20:21:27.635076400Z"
    }
   },
   "id": "b17d12262cb21220"
  }
 ],
 "metadata": {
  "kernelspec": {
   "display_name": "Python 3 (ipykernel)",
   "language": "python",
   "name": "python3"
  },
  "language_info": {
   "codemirror_mode": {
    "name": "ipython",
    "version": 3
   },
   "file_extension": ".py",
   "mimetype": "text/x-python",
   "name": "python",
   "nbconvert_exporter": "python",
   "pygments_lexer": "ipython3",
   "version": "3.10.12"
  }
 },
 "nbformat": 4,
 "nbformat_minor": 5
}
