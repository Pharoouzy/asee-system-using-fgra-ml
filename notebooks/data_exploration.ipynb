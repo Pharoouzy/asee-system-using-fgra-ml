{
 "cells": [
  {
   "cell_type": "markdown",
   "id": "e56556633b012282",
   "metadata": {
    "collapsed": false
   },
   "source": [
    "# Exploratory Data Analysis\n"
   ]
  },
  {
   "cell_type": "markdown",
   "id": "662a722194e447c",
   "metadata": {
    "collapsed": false
   },
   "source": [
    "## Import necessary packages\n"
   ]
  },
  {
   "cell_type": "code",
   "execution_count": 1,
   "id": "5ad4e84a5b6b41d0",
   "metadata": {
    "collapsed": false,
    "ExecuteTime": {
     "end_time": "2023-08-13T20:13:32.968971200Z",
     "start_time": "2023-08-13T20:13:32.642495Z"
    }
   },
   "outputs": [],
   "source": [
    "import sys\n",
    "# sys.path.append(\"../\") \n",
    "from src.data.data_ingestion import DataIngestion\n",
    "import pandas as pd"
   ]
  },
  {
   "cell_type": "code",
   "execution_count": 2,
   "id": "5a1abb2f6212fc64",
   "metadata": {
    "collapsed": false,
    "ExecuteTime": {
     "end_time": "2023-08-13T20:13:55.755443400Z",
     "start_time": "2023-08-13T20:13:35.165663Z"
    }
   },
   "outputs": [
    {
     "name": "stderr",
     "output_type": "stream",
     "text": [
      "[2023-08-13 21:13:35,168] 54 src.utils.logger - INFO - Started data ingestion process...\n",
      "[2023-08-13 21:13:48,094] 63 src.utils.logger - WARNING - Warning: Found missing data!\n",
      "[2023-08-13 21:13:55,527] 70 src.utils.logger - INFO - Data successfully ingested to CSV: /home/umar/Workspace/personal/msc-dissertation/src/data/../../data/raw/raw.csv\n"
     ]
    }
   ],
   "source": [
    "raw_data = DataIngestion().ingest()"
   ]
  },
  {
   "cell_type": "code",
   "execution_count": 5,
   "id": "193511a666225cc5",
   "metadata": {
    "collapsed": false,
    "ExecuteTime": {
     "end_time": "2023-08-13T20:17:43.081689Z",
     "start_time": "2023-08-13T20:17:39.241317700Z"
    }
   },
   "outputs": [
    {
     "data": {
      "text/plain": "   ID  Jira_ID Issue_Key                                              Title  \\\n0  65    77638   XD-3768     \"How do I make a job restartable in spring xd\"   \n1  66    77511   XD-3767      \"admin config timezone command does not work\"   \n2  67    77130   XD-3766  \"Module Upload command not pushing jar to all ...   \n3  68    71950   XD-3765                             \"Fix stream failover \"   \n4  69    71805   XD-3764  \"SpringXD Job is still executing even after fo...   \n\n                                         Description   Type Priority Status  \\\n0  \"The jobs that appear under Executions section...    Bug    Major  To Do   \n1  \"Working with Spring-XD version 1.3.2.RELEASE ...    Bug  Trivial  To Do   \n2  \"My project 7 node cluster and in that 2 node ...    Bug    Major  To Do   \n3  \"See https://github.com/spring-projects/spring...  Story    Minor   Done   \n4  \"I'm trying to run a Job on SpringXD and the j...    Bug    Major  To Do   \n\n  Resolution        Creation_Date  ... Timespent Resolution_Time_Minutes  \\\n0        NaN  2017-07-10 13:41:25  ...       NaN                     0.0   \n1        NaN  2017-06-26 16:26:27  ...       NaN                     0.0   \n2        NaN  2017-05-19 22:28:43  ...       NaN                     0.0   \n3   Complete  2017-03-21 16:54:44  ...       NaN                     0.0   \n4        NaN  2017-03-06 20:01:41  ...       NaN                     0.0   \n\n  Total_Effort_Minutes  Title_Changed_After_Estimation  \\\n0                  0.0                               0   \n1                  0.0                               0   \n2                  0.0                               0   \n3                  0.0                               1   \n4                  0.0                               0   \n\n   Description_Changed_After_Estimation  Assignee_ID  Creator_ID  Reporter_ID  \\\n0                                     0          NaN        68.0         68.0   \n1                                     0          NaN        69.0         69.0   \n2                                     0          NaN        70.0         70.0   \n3                                     0         71.0        72.0         72.0   \n4                                     0          NaN        73.0         73.0   \n\n   Repository_Name  Poject_Name  \n0           Spring    Spring XD  \n1           Spring    Spring XD  \n2           Spring    Spring XD  \n3           Spring    Spring XD  \n4           Spring    Spring XD  \n\n[5 rows x 25 columns]",
      "text/html": "<div>\n<style scoped>\n    .dataframe tbody tr th:only-of-type {\n        vertical-align: middle;\n    }\n\n    .dataframe tbody tr th {\n        vertical-align: top;\n    }\n\n    .dataframe thead th {\n        text-align: right;\n    }\n</style>\n<table border=\"1\" class=\"dataframe\">\n  <thead>\n    <tr style=\"text-align: right;\">\n      <th></th>\n      <th>ID</th>\n      <th>Jira_ID</th>\n      <th>Issue_Key</th>\n      <th>Title</th>\n      <th>Description</th>\n      <th>Type</th>\n      <th>Priority</th>\n      <th>Status</th>\n      <th>Resolution</th>\n      <th>Creation_Date</th>\n      <th>...</th>\n      <th>Timespent</th>\n      <th>Resolution_Time_Minutes</th>\n      <th>Total_Effort_Minutes</th>\n      <th>Title_Changed_After_Estimation</th>\n      <th>Description_Changed_After_Estimation</th>\n      <th>Assignee_ID</th>\n      <th>Creator_ID</th>\n      <th>Reporter_ID</th>\n      <th>Repository_Name</th>\n      <th>Poject_Name</th>\n    </tr>\n  </thead>\n  <tbody>\n    <tr>\n      <th>0</th>\n      <td>65</td>\n      <td>77638</td>\n      <td>XD-3768</td>\n      <td>\"How do I make a job restartable in spring xd\"</td>\n      <td>\"The jobs that appear under Executions section...</td>\n      <td>Bug</td>\n      <td>Major</td>\n      <td>To Do</td>\n      <td>NaN</td>\n      <td>2017-07-10 13:41:25</td>\n      <td>...</td>\n      <td>NaN</td>\n      <td>0.0</td>\n      <td>0.0</td>\n      <td>0</td>\n      <td>0</td>\n      <td>NaN</td>\n      <td>68.0</td>\n      <td>68.0</td>\n      <td>Spring</td>\n      <td>Spring XD</td>\n    </tr>\n    <tr>\n      <th>1</th>\n      <td>66</td>\n      <td>77511</td>\n      <td>XD-3767</td>\n      <td>\"admin config timezone command does not work\"</td>\n      <td>\"Working with Spring-XD version 1.3.2.RELEASE ...</td>\n      <td>Bug</td>\n      <td>Trivial</td>\n      <td>To Do</td>\n      <td>NaN</td>\n      <td>2017-06-26 16:26:27</td>\n      <td>...</td>\n      <td>NaN</td>\n      <td>0.0</td>\n      <td>0.0</td>\n      <td>0</td>\n      <td>0</td>\n      <td>NaN</td>\n      <td>69.0</td>\n      <td>69.0</td>\n      <td>Spring</td>\n      <td>Spring XD</td>\n    </tr>\n    <tr>\n      <th>2</th>\n      <td>67</td>\n      <td>77130</td>\n      <td>XD-3766</td>\n      <td>\"Module Upload command not pushing jar to all ...</td>\n      <td>\"My project 7 node cluster and in that 2 node ...</td>\n      <td>Bug</td>\n      <td>Major</td>\n      <td>To Do</td>\n      <td>NaN</td>\n      <td>2017-05-19 22:28:43</td>\n      <td>...</td>\n      <td>NaN</td>\n      <td>0.0</td>\n      <td>0.0</td>\n      <td>0</td>\n      <td>0</td>\n      <td>NaN</td>\n      <td>70.0</td>\n      <td>70.0</td>\n      <td>Spring</td>\n      <td>Spring XD</td>\n    </tr>\n    <tr>\n      <th>3</th>\n      <td>68</td>\n      <td>71950</td>\n      <td>XD-3765</td>\n      <td>\"Fix stream failover \"</td>\n      <td>\"See https://github.com/spring-projects/spring...</td>\n      <td>Story</td>\n      <td>Minor</td>\n      <td>Done</td>\n      <td>Complete</td>\n      <td>2017-03-21 16:54:44</td>\n      <td>...</td>\n      <td>NaN</td>\n      <td>0.0</td>\n      <td>0.0</td>\n      <td>1</td>\n      <td>0</td>\n      <td>71.0</td>\n      <td>72.0</td>\n      <td>72.0</td>\n      <td>Spring</td>\n      <td>Spring XD</td>\n    </tr>\n    <tr>\n      <th>4</th>\n      <td>69</td>\n      <td>71805</td>\n      <td>XD-3764</td>\n      <td>\"SpringXD Job is still executing even after fo...</td>\n      <td>\"I'm trying to run a Job on SpringXD and the j...</td>\n      <td>Bug</td>\n      <td>Major</td>\n      <td>To Do</td>\n      <td>NaN</td>\n      <td>2017-03-06 20:01:41</td>\n      <td>...</td>\n      <td>NaN</td>\n      <td>0.0</td>\n      <td>0.0</td>\n      <td>0</td>\n      <td>0</td>\n      <td>NaN</td>\n      <td>73.0</td>\n      <td>73.0</td>\n      <td>Spring</td>\n      <td>Spring XD</td>\n    </tr>\n  </tbody>\n</table>\n<p>5 rows × 25 columns</p>\n</div>"
     },
     "execution_count": 5,
     "metadata": {},
     "output_type": "execute_result"
    }
   ],
   "source": [
    "df = pd.read_csv(raw_data)\n",
    "df.head()"
   ]
  },
  {
   "cell_type": "code",
   "execution_count": 3,
   "outputs": [],
   "source": [
    "def assess_missing_data(df: pd.DataFrame) -> None:\n",
    "    \"\"\"Print out missing data statistics for the dataframe.\"\"\"\n",
    "    missing_data = df.isnull().sum()\n",
    "    percent_missing = (df.isnull().sum() / df.isnull().count() * 100)\n",
    "    missing_data_table = pd.concat([missing_data, percent_missing], axis=1, keys=['Total Missing', 'Percent Missing (%)'])\n",
    "    print(missing_data_table[missing_data_table['Total Missing'] > 0].sort_values('Percent Missing (%)', ascending=False))"
   ],
   "metadata": {
    "collapsed": false,
    "ExecuteTime": {
     "end_time": "2023-08-13T20:17:21.322791500Z",
     "start_time": "2023-08-13T20:17:21.285947100Z"
    }
   },
   "id": "abcf2b77a3109f83"
  },
  {
   "cell_type": "code",
   "execution_count": 13,
   "outputs": [
    {
     "name": "stdout",
     "output_type": "stream",
     "text": [
      "                 Total Missing  Percent Missing (%)\n",
      "Timespent               447989            97.764669\n",
      "Estimation_Date         392805            85.721861\n",
      "Assignee_ID             196401            42.860603\n",
      "Priority                126659            27.640802\n",
      "Resolution_Date         105600            23.045095\n",
      "Resolution               77498            16.912394\n",
      "Description              29128             6.356605\n",
      "Reporter_ID               2496             0.544702\n",
      "Creator_ID                1591             0.347204\n"
     ]
    },
    {
     "data": {
      "text/plain": "   ID  Jira_ID Issue_Key                                              Title  \\\n0  65    77638   XD-3768     \"How do I make a job restartable in spring xd\"   \n1  66    77511   XD-3767      \"admin config timezone command does not work\"   \n2  67    77130   XD-3766  \"Module Upload command not pushing jar to all ...   \n3  68    71950   XD-3765                             \"Fix stream failover \"   \n4  69    71805   XD-3764  \"SpringXD Job is still executing even after fo...   \n\n                                         Description   Type Priority Status  \\\n0  \"The jobs that appear under Executions section...    Bug    Major  To Do   \n1  \"Working with Spring-XD version 1.3.2.RELEASE ...    Bug  Trivial  To Do   \n2  \"My project 7 node cluster and in that 2 node ...    Bug    Major  To Do   \n3  \"See https://github.com/spring-projects/spring...  Story    Minor   Done   \n4  \"I'm trying to run a Job on SpringXD and the j...    Bug    Major  To Do   \n\n  Resolution        Creation_Date  ... Timespent Resolution_Time_Minutes  \\\n0        NaN  2017-07-10 13:41:25  ...       NaN                     0.0   \n1        NaN  2017-06-26 16:26:27  ...       NaN                     0.0   \n2        NaN  2017-05-19 22:28:43  ...       NaN                     0.0   \n3   Complete  2017-03-21 16:54:44  ...       NaN                     0.0   \n4        NaN  2017-03-06 20:01:41  ...       NaN                     0.0   \n\n  Total_Effort_Minutes  Title_Changed_After_Estimation  \\\n0                  0.0                               0   \n1                  0.0                               0   \n2                  0.0                               0   \n3                  0.0                               1   \n4                  0.0                               0   \n\n   Description_Changed_After_Estimation  Assignee_ID  Creator_ID  Reporter_ID  \\\n0                                     0          NaN        68.0         68.0   \n1                                     0          NaN        69.0         69.0   \n2                                     0          NaN        70.0         70.0   \n3                                     0         71.0        72.0         72.0   \n4                                     0          NaN        73.0         73.0   \n\n   Repository_Name  Poject_Name  \n0           Spring    Spring XD  \n1           Spring    Spring XD  \n2           Spring    Spring XD  \n3           Spring    Spring XD  \n4           Spring    Spring XD  \n\n[5 rows x 25 columns]",
      "text/html": "<div>\n<style scoped>\n    .dataframe tbody tr th:only-of-type {\n        vertical-align: middle;\n    }\n\n    .dataframe tbody tr th {\n        vertical-align: top;\n    }\n\n    .dataframe thead th {\n        text-align: right;\n    }\n</style>\n<table border=\"1\" class=\"dataframe\">\n  <thead>\n    <tr style=\"text-align: right;\">\n      <th></th>\n      <th>ID</th>\n      <th>Jira_ID</th>\n      <th>Issue_Key</th>\n      <th>Title</th>\n      <th>Description</th>\n      <th>Type</th>\n      <th>Priority</th>\n      <th>Status</th>\n      <th>Resolution</th>\n      <th>Creation_Date</th>\n      <th>...</th>\n      <th>Timespent</th>\n      <th>Resolution_Time_Minutes</th>\n      <th>Total_Effort_Minutes</th>\n      <th>Title_Changed_After_Estimation</th>\n      <th>Description_Changed_After_Estimation</th>\n      <th>Assignee_ID</th>\n      <th>Creator_ID</th>\n      <th>Reporter_ID</th>\n      <th>Repository_Name</th>\n      <th>Poject_Name</th>\n    </tr>\n  </thead>\n  <tbody>\n    <tr>\n      <th>0</th>\n      <td>65</td>\n      <td>77638</td>\n      <td>XD-3768</td>\n      <td>\"How do I make a job restartable in spring xd\"</td>\n      <td>\"The jobs that appear under Executions section...</td>\n      <td>Bug</td>\n      <td>Major</td>\n      <td>To Do</td>\n      <td>NaN</td>\n      <td>2017-07-10 13:41:25</td>\n      <td>...</td>\n      <td>NaN</td>\n      <td>0.0</td>\n      <td>0.0</td>\n      <td>0</td>\n      <td>0</td>\n      <td>NaN</td>\n      <td>68.0</td>\n      <td>68.0</td>\n      <td>Spring</td>\n      <td>Spring XD</td>\n    </tr>\n    <tr>\n      <th>1</th>\n      <td>66</td>\n      <td>77511</td>\n      <td>XD-3767</td>\n      <td>\"admin config timezone command does not work\"</td>\n      <td>\"Working with Spring-XD version 1.3.2.RELEASE ...</td>\n      <td>Bug</td>\n      <td>Trivial</td>\n      <td>To Do</td>\n      <td>NaN</td>\n      <td>2017-06-26 16:26:27</td>\n      <td>...</td>\n      <td>NaN</td>\n      <td>0.0</td>\n      <td>0.0</td>\n      <td>0</td>\n      <td>0</td>\n      <td>NaN</td>\n      <td>69.0</td>\n      <td>69.0</td>\n      <td>Spring</td>\n      <td>Spring XD</td>\n    </tr>\n    <tr>\n      <th>2</th>\n      <td>67</td>\n      <td>77130</td>\n      <td>XD-3766</td>\n      <td>\"Module Upload command not pushing jar to all ...</td>\n      <td>\"My project 7 node cluster and in that 2 node ...</td>\n      <td>Bug</td>\n      <td>Major</td>\n      <td>To Do</td>\n      <td>NaN</td>\n      <td>2017-05-19 22:28:43</td>\n      <td>...</td>\n      <td>NaN</td>\n      <td>0.0</td>\n      <td>0.0</td>\n      <td>0</td>\n      <td>0</td>\n      <td>NaN</td>\n      <td>70.0</td>\n      <td>70.0</td>\n      <td>Spring</td>\n      <td>Spring XD</td>\n    </tr>\n    <tr>\n      <th>3</th>\n      <td>68</td>\n      <td>71950</td>\n      <td>XD-3765</td>\n      <td>\"Fix stream failover \"</td>\n      <td>\"See https://github.com/spring-projects/spring...</td>\n      <td>Story</td>\n      <td>Minor</td>\n      <td>Done</td>\n      <td>Complete</td>\n      <td>2017-03-21 16:54:44</td>\n      <td>...</td>\n      <td>NaN</td>\n      <td>0.0</td>\n      <td>0.0</td>\n      <td>1</td>\n      <td>0</td>\n      <td>71.0</td>\n      <td>72.0</td>\n      <td>72.0</td>\n      <td>Spring</td>\n      <td>Spring XD</td>\n    </tr>\n    <tr>\n      <th>4</th>\n      <td>69</td>\n      <td>71805</td>\n      <td>XD-3764</td>\n      <td>\"SpringXD Job is still executing even after fo...</td>\n      <td>\"I'm trying to run a Job on SpringXD and the j...</td>\n      <td>Bug</td>\n      <td>Major</td>\n      <td>To Do</td>\n      <td>NaN</td>\n      <td>2017-03-06 20:01:41</td>\n      <td>...</td>\n      <td>NaN</td>\n      <td>0.0</td>\n      <td>0.0</td>\n      <td>0</td>\n      <td>0</td>\n      <td>NaN</td>\n      <td>73.0</td>\n      <td>73.0</td>\n      <td>Spring</td>\n      <td>Spring XD</td>\n    </tr>\n  </tbody>\n</table>\n<p>5 rows × 25 columns</p>\n</div>"
     },
     "execution_count": 13,
     "metadata": {},
     "output_type": "execute_result"
    }
   ],
   "source": [
    "assess_missing_data(df)"
   ],
   "metadata": {
    "collapsed": false,
    "ExecuteTime": {
     "end_time": "2023-08-13T20:21:28.011137400Z",
     "start_time": "2023-08-13T20:21:27.635076400Z"
    }
   },
   "id": "b17d12262cb21220"
  },
  {
   "cell_type": "code",
   "execution_count": 7,
   "outputs": [],
   "source": [
    "def simple_imputation_numeric(df, columns, strategy='mean'):\n",
    "    for col in columns:\n",
    "        if strategy == 'mean':\n",
    "            df[col].fillna(df[col].mean(), inplace=True)\n",
    "        elif strategy == 'median':\n",
    "            df[col].fillna(df[col].median(), inplace=True)\n",
    "    return df"
   ],
   "metadata": {
    "collapsed": false,
    "ExecuteTime": {
     "end_time": "2023-08-13T20:19:14.140215900Z",
     "start_time": "2023-08-13T20:19:14.134195700Z"
    }
   },
   "id": "968a17c75644b04f"
  },
  {
   "cell_type": "code",
   "execution_count": 10,
   "outputs": [],
   "source": [
    "dfx = simple_imputation_numeric(df, ['Story_Point'])"
   ],
   "metadata": {
    "collapsed": false,
    "ExecuteTime": {
     "end_time": "2023-08-13T20:20:41.899241100Z",
     "start_time": "2023-08-13T20:20:41.891222800Z"
    }
   },
   "id": "46057f33698ad68"
  },
  {
   "cell_type": "code",
   "execution_count": 12,
   "outputs": [
    {
     "name": "stdout",
     "output_type": "stream",
     "text": [
      "                 Total Missing  Percent Missing (%)\n",
      "Timespent               447989            97.764669\n",
      "Estimation_Date         392805            85.721861\n",
      "Assignee_ID             196401            42.860603\n",
      "Priority                126659            27.640802\n",
      "Resolution_Date         105600            23.045095\n",
      "Resolution               77498            16.912394\n",
      "Description              29128             6.356605\n",
      "Reporter_ID               2496             0.544702\n",
      "Creator_ID                1591             0.347204\n"
     ]
    },
    {
     "data": {
      "text/plain": "   ID  Jira_ID Issue_Key                                              Title  \\\n0  65    77638   XD-3768     \"How do I make a job restartable in spring xd\"   \n1  66    77511   XD-3767      \"admin config timezone command does not work\"   \n2  67    77130   XD-3766  \"Module Upload command not pushing jar to all ...   \n3  68    71950   XD-3765                             \"Fix stream failover \"   \n4  69    71805   XD-3764  \"SpringXD Job is still executing even after fo...   \n\n                                         Description   Type Priority Status  \\\n0  \"The jobs that appear under Executions section...    Bug    Major  To Do   \n1  \"Working with Spring-XD version 1.3.2.RELEASE ...    Bug  Trivial  To Do   \n2  \"My project 7 node cluster and in that 2 node ...    Bug    Major  To Do   \n3  \"See https://github.com/spring-projects/spring...  Story    Minor   Done   \n4  \"I'm trying to run a Job on SpringXD and the j...    Bug    Major  To Do   \n\n  Resolution        Creation_Date  ... Timespent Resolution_Time_Minutes  \\\n0        NaN  2017-07-10 13:41:25  ...       NaN                     0.0   \n1        NaN  2017-06-26 16:26:27  ...       NaN                     0.0   \n2        NaN  2017-05-19 22:28:43  ...       NaN                     0.0   \n3   Complete  2017-03-21 16:54:44  ...       NaN                     0.0   \n4        NaN  2017-03-06 20:01:41  ...       NaN                     0.0   \n\n  Total_Effort_Minutes  Title_Changed_After_Estimation  \\\n0                  0.0                               0   \n1                  0.0                               0   \n2                  0.0                               0   \n3                  0.0                               1   \n4                  0.0                               0   \n\n   Description_Changed_After_Estimation  Assignee_ID  Creator_ID  Reporter_ID  \\\n0                                     0          NaN        68.0         68.0   \n1                                     0          NaN        69.0         69.0   \n2                                     0          NaN        70.0         70.0   \n3                                     0         71.0        72.0         72.0   \n4                                     0          NaN        73.0         73.0   \n\n   Repository_Name  Poject_Name  \n0           Spring    Spring XD  \n1           Spring    Spring XD  \n2           Spring    Spring XD  \n3           Spring    Spring XD  \n4           Spring    Spring XD  \n\n[5 rows x 25 columns]",
      "text/html": "<div>\n<style scoped>\n    .dataframe tbody tr th:only-of-type {\n        vertical-align: middle;\n    }\n\n    .dataframe tbody tr th {\n        vertical-align: top;\n    }\n\n    .dataframe thead th {\n        text-align: right;\n    }\n</style>\n<table border=\"1\" class=\"dataframe\">\n  <thead>\n    <tr style=\"text-align: right;\">\n      <th></th>\n      <th>ID</th>\n      <th>Jira_ID</th>\n      <th>Issue_Key</th>\n      <th>Title</th>\n      <th>Description</th>\n      <th>Type</th>\n      <th>Priority</th>\n      <th>Status</th>\n      <th>Resolution</th>\n      <th>Creation_Date</th>\n      <th>...</th>\n      <th>Timespent</th>\n      <th>Resolution_Time_Minutes</th>\n      <th>Total_Effort_Minutes</th>\n      <th>Title_Changed_After_Estimation</th>\n      <th>Description_Changed_After_Estimation</th>\n      <th>Assignee_ID</th>\n      <th>Creator_ID</th>\n      <th>Reporter_ID</th>\n      <th>Repository_Name</th>\n      <th>Poject_Name</th>\n    </tr>\n  </thead>\n  <tbody>\n    <tr>\n      <th>0</th>\n      <td>65</td>\n      <td>77638</td>\n      <td>XD-3768</td>\n      <td>\"How do I make a job restartable in spring xd\"</td>\n      <td>\"The jobs that appear under Executions section...</td>\n      <td>Bug</td>\n      <td>Major</td>\n      <td>To Do</td>\n      <td>NaN</td>\n      <td>2017-07-10 13:41:25</td>\n      <td>...</td>\n      <td>NaN</td>\n      <td>0.0</td>\n      <td>0.0</td>\n      <td>0</td>\n      <td>0</td>\n      <td>NaN</td>\n      <td>68.0</td>\n      <td>68.0</td>\n      <td>Spring</td>\n      <td>Spring XD</td>\n    </tr>\n    <tr>\n      <th>1</th>\n      <td>66</td>\n      <td>77511</td>\n      <td>XD-3767</td>\n      <td>\"admin config timezone command does not work\"</td>\n      <td>\"Working with Spring-XD version 1.3.2.RELEASE ...</td>\n      <td>Bug</td>\n      <td>Trivial</td>\n      <td>To Do</td>\n      <td>NaN</td>\n      <td>2017-06-26 16:26:27</td>\n      <td>...</td>\n      <td>NaN</td>\n      <td>0.0</td>\n      <td>0.0</td>\n      <td>0</td>\n      <td>0</td>\n      <td>NaN</td>\n      <td>69.0</td>\n      <td>69.0</td>\n      <td>Spring</td>\n      <td>Spring XD</td>\n    </tr>\n    <tr>\n      <th>2</th>\n      <td>67</td>\n      <td>77130</td>\n      <td>XD-3766</td>\n      <td>\"Module Upload command not pushing jar to all ...</td>\n      <td>\"My project 7 node cluster and in that 2 node ...</td>\n      <td>Bug</td>\n      <td>Major</td>\n      <td>To Do</td>\n      <td>NaN</td>\n      <td>2017-05-19 22:28:43</td>\n      <td>...</td>\n      <td>NaN</td>\n      <td>0.0</td>\n      <td>0.0</td>\n      <td>0</td>\n      <td>0</td>\n      <td>NaN</td>\n      <td>70.0</td>\n      <td>70.0</td>\n      <td>Spring</td>\n      <td>Spring XD</td>\n    </tr>\n    <tr>\n      <th>3</th>\n      <td>68</td>\n      <td>71950</td>\n      <td>XD-3765</td>\n      <td>\"Fix stream failover \"</td>\n      <td>\"See https://github.com/spring-projects/spring...</td>\n      <td>Story</td>\n      <td>Minor</td>\n      <td>Done</td>\n      <td>Complete</td>\n      <td>2017-03-21 16:54:44</td>\n      <td>...</td>\n      <td>NaN</td>\n      <td>0.0</td>\n      <td>0.0</td>\n      <td>1</td>\n      <td>0</td>\n      <td>71.0</td>\n      <td>72.0</td>\n      <td>72.0</td>\n      <td>Spring</td>\n      <td>Spring XD</td>\n    </tr>\n    <tr>\n      <th>4</th>\n      <td>69</td>\n      <td>71805</td>\n      <td>XD-3764</td>\n      <td>\"SpringXD Job is still executing even after fo...</td>\n      <td>\"I'm trying to run a Job on SpringXD and the j...</td>\n      <td>Bug</td>\n      <td>Major</td>\n      <td>To Do</td>\n      <td>NaN</td>\n      <td>2017-03-06 20:01:41</td>\n      <td>...</td>\n      <td>NaN</td>\n      <td>0.0</td>\n      <td>0.0</td>\n      <td>0</td>\n      <td>0</td>\n      <td>NaN</td>\n      <td>73.0</td>\n      <td>73.0</td>\n      <td>Spring</td>\n      <td>Spring XD</td>\n    </tr>\n  </tbody>\n</table>\n<p>5 rows × 25 columns</p>\n</div>"
     },
     "execution_count": 12,
     "metadata": {},
     "output_type": "execute_result"
    }
   ],
   "source": [
    "assess_missing_data(dfx)\n",
    "df.head()"
   ],
   "metadata": {
    "collapsed": false,
    "ExecuteTime": {
     "end_time": "2023-08-13T20:21:07.447239300Z",
     "start_time": "2023-08-13T20:21:07.036462400Z"
    }
   },
   "id": "9d1ad0ac791b8540"
  }
 ],
 "metadata": {
  "kernelspec": {
   "display_name": "Python 3 (ipykernel)",
   "language": "python",
   "name": "python3"
  },
  "language_info": {
   "codemirror_mode": {
    "name": "ipython",
    "version": 3
   },
   "file_extension": ".py",
   "mimetype": "text/x-python",
   "name": "python",
   "nbconvert_exporter": "python",
   "pygments_lexer": "ipython3",
   "version": "3.10.12"
  }
 },
 "nbformat": 4,
 "nbformat_minor": 5
}
